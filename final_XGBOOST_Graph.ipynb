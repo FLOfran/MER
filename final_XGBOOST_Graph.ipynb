{
 "cells": [
  {
   "cell_type": "code",
   "execution_count": 28,
   "metadata": {},
   "outputs": [
    {
     "data": {
      "text/html": [
       "<div>\n",
       "<style scoped>\n",
       "    .dataframe tbody tr th:only-of-type {\n",
       "        vertical-align: middle;\n",
       "    }\n",
       "\n",
       "    .dataframe tbody tr th {\n",
       "        vertical-align: top;\n",
       "    }\n",
       "\n",
       "    .dataframe thead th {\n",
       "        text-align: right;\n",
       "    }\n",
       "</style>\n",
       "<table border=\"1\" class=\"dataframe\">\n",
       "  <thead>\n",
       "    <tr style=\"text-align: right;\">\n",
       "      <th></th>\n",
       "      <th>Unnamed: 0</th>\n",
       "      <th>tempo</th>\n",
       "      <th>instrumentalness</th>\n",
       "      <th>acousticness</th>\n",
       "      <th>energy</th>\n",
       "      <th>valence</th>\n",
       "      <th>loudness</th>\n",
       "      <th>mood</th>\n",
       "    </tr>\n",
       "  </thead>\n",
       "  <tbody>\n",
       "    <tr>\n",
       "      <th>0</th>\n",
       "      <td>0</td>\n",
       "      <td>118.523</td>\n",
       "      <td>0.000000</td>\n",
       "      <td>0.13700</td>\n",
       "      <td>0.730</td>\n",
       "      <td>0.625</td>\n",
       "      <td>0.779912</td>\n",
       "      <td>Happy</td>\n",
       "    </tr>\n",
       "    <tr>\n",
       "      <th>1</th>\n",
       "      <td>1</td>\n",
       "      <td>120.255</td>\n",
       "      <td>0.196000</td>\n",
       "      <td>0.01890</td>\n",
       "      <td>0.832</td>\n",
       "      <td>0.166</td>\n",
       "      <td>0.852145</td>\n",
       "      <td>Sad</td>\n",
       "    </tr>\n",
       "    <tr>\n",
       "      <th>2</th>\n",
       "      <td>2</td>\n",
       "      <td>136.168</td>\n",
       "      <td>0.000077</td>\n",
       "      <td>0.91300</td>\n",
       "      <td>0.139</td>\n",
       "      <td>0.116</td>\n",
       "      <td>0.615590</td>\n",
       "      <td>Sad</td>\n",
       "    </tr>\n",
       "    <tr>\n",
       "      <th>3</th>\n",
       "      <td>3</td>\n",
       "      <td>193.100</td>\n",
       "      <td>0.000006</td>\n",
       "      <td>0.08900</td>\n",
       "      <td>0.438</td>\n",
       "      <td>0.587</td>\n",
       "      <td>0.672509</td>\n",
       "      <td>Happy</td>\n",
       "    </tr>\n",
       "    <tr>\n",
       "      <th>4</th>\n",
       "      <td>4</td>\n",
       "      <td>169.881</td>\n",
       "      <td>0.000000</td>\n",
       "      <td>0.00171</td>\n",
       "      <td>0.932</td>\n",
       "      <td>0.445</td>\n",
       "      <td>0.885932</td>\n",
       "      <td>Energetic</td>\n",
       "    </tr>\n",
       "  </tbody>\n",
       "</table>\n",
       "</div>"
      ],
      "text/plain": [
       "   Unnamed: 0    tempo  instrumentalness  acousticness  energy  valence  \\\n",
       "0           0  118.523          0.000000       0.13700   0.730    0.625   \n",
       "1           1  120.255          0.196000       0.01890   0.832    0.166   \n",
       "2           2  136.168          0.000077       0.91300   0.139    0.116   \n",
       "3           3  193.100          0.000006       0.08900   0.438    0.587   \n",
       "4           4  169.881          0.000000       0.00171   0.932    0.445   \n",
       "\n",
       "   loudness       mood  \n",
       "0  0.779912      Happy  \n",
       "1  0.852145        Sad  \n",
       "2  0.615590        Sad  \n",
       "3  0.672509      Happy  \n",
       "4  0.885932  Energetic  "
      ]
     },
     "execution_count": 28,
     "metadata": {},
     "output_type": "execute_result"
    }
   ],
   "source": [
    "\n",
    "import matplotlib.pyplot as plt\n",
    "import pandas as pd\n",
    "import xgboost as xgb\n",
    "from sklearn import preprocessing\n",
    "from sklearn.model_selection import train_test_split\n",
    "import seaborn as sns\n",
    "\n",
    "dataset = pd.read_csv(r'moods_preprocessed.csv')\n",
    "\n",
    "dataset.head()\n"
   ]
  },
  {
   "cell_type": "code",
   "execution_count": 29,
   "metadata": {},
   "outputs": [
    {
     "data": {
      "text/html": [
       "<div>\n",
       "<style scoped>\n",
       "    .dataframe tbody tr th:only-of-type {\n",
       "        vertical-align: middle;\n",
       "    }\n",
       "\n",
       "    .dataframe tbody tr th {\n",
       "        vertical-align: top;\n",
       "    }\n",
       "\n",
       "    .dataframe thead th {\n",
       "        text-align: right;\n",
       "    }\n",
       "</style>\n",
       "<table border=\"1\" class=\"dataframe\">\n",
       "  <thead>\n",
       "    <tr style=\"text-align: right;\">\n",
       "      <th></th>\n",
       "      <th>Unnamed: 0</th>\n",
       "      <th>tempo</th>\n",
       "      <th>instrumentalness</th>\n",
       "      <th>acousticness</th>\n",
       "      <th>energy</th>\n",
       "      <th>valence</th>\n",
       "      <th>loudness</th>\n",
       "      <th>mood</th>\n",
       "    </tr>\n",
       "  </thead>\n",
       "  <tbody>\n",
       "    <tr>\n",
       "      <th>0</th>\n",
       "      <td>0</td>\n",
       "      <td>118.523</td>\n",
       "      <td>0.000000</td>\n",
       "      <td>0.13700</td>\n",
       "      <td>0.730</td>\n",
       "      <td>0.625</td>\n",
       "      <td>0.779912</td>\n",
       "      <td>0</td>\n",
       "    </tr>\n",
       "    <tr>\n",
       "      <th>1</th>\n",
       "      <td>1</td>\n",
       "      <td>120.255</td>\n",
       "      <td>0.196000</td>\n",
       "      <td>0.01890</td>\n",
       "      <td>0.832</td>\n",
       "      <td>0.166</td>\n",
       "      <td>0.852145</td>\n",
       "      <td>1</td>\n",
       "    </tr>\n",
       "    <tr>\n",
       "      <th>2</th>\n",
       "      <td>2</td>\n",
       "      <td>136.168</td>\n",
       "      <td>0.000077</td>\n",
       "      <td>0.91300</td>\n",
       "      <td>0.139</td>\n",
       "      <td>0.116</td>\n",
       "      <td>0.615590</td>\n",
       "      <td>1</td>\n",
       "    </tr>\n",
       "    <tr>\n",
       "      <th>3</th>\n",
       "      <td>3</td>\n",
       "      <td>193.100</td>\n",
       "      <td>0.000006</td>\n",
       "      <td>0.08900</td>\n",
       "      <td>0.438</td>\n",
       "      <td>0.587</td>\n",
       "      <td>0.672509</td>\n",
       "      <td>0</td>\n",
       "    </tr>\n",
       "    <tr>\n",
       "      <th>4</th>\n",
       "      <td>4</td>\n",
       "      <td>169.881</td>\n",
       "      <td>0.000000</td>\n",
       "      <td>0.00171</td>\n",
       "      <td>0.932</td>\n",
       "      <td>0.445</td>\n",
       "      <td>0.885932</td>\n",
       "      <td>2</td>\n",
       "    </tr>\n",
       "  </tbody>\n",
       "</table>\n",
       "</div>"
      ],
      "text/plain": [
       "   Unnamed: 0    tempo  instrumentalness  acousticness  energy  valence  \\\n",
       "0           0  118.523          0.000000       0.13700   0.730    0.625   \n",
       "1           1  120.255          0.196000       0.01890   0.832    0.166   \n",
       "2           2  136.168          0.000077       0.91300   0.139    0.116   \n",
       "3           3  193.100          0.000006       0.08900   0.438    0.587   \n",
       "4           4  169.881          0.000000       0.00171   0.932    0.445   \n",
       "\n",
       "   loudness  mood  \n",
       "0  0.779912     0  \n",
       "1  0.852145     1  \n",
       "2  0.615590     1  \n",
       "3  0.672509     0  \n",
       "4  0.885932     2  "
      ]
     },
     "execution_count": 29,
     "metadata": {},
     "output_type": "execute_result"
    }
   ],
   "source": [
    "dataset['mood']=dataset['mood'].map({'Happy':0, 'Sad':1, 'Energetic': 2, 'Calm':3 }).astype(int)\n",
    "dataset.head()\n"
   ]
  },
  {
   "cell_type": "code",
   "execution_count": 30,
   "metadata": {},
   "outputs": [],
   "source": [
    "data= pd.DataFrame(dataset, columns=['tempo', 'acousticness', 'instrumentalness', 'valence', 'energy', 'loudness', 'mood'])\n",
    "data.head()\n",
    "x_data=data.drop(['mood'], axis=1)\n",
    "y_data=data['mood']\n",
    "\n",
    "X_train, X_test, y_train, y_test = train_test_split(x_data, y_data, test_size=0.2, random_state=1)\n"
   ]
  },
  {
   "cell_type": "code",
   "execution_count": 31,
   "metadata": {},
   "outputs": [],
   "source": [
    "from xgboost import XGBClassifier\n",
    "model = XGBClassifier(\n",
    "    eta = 0.1, \n",
    "    max_depth= 2,  \n",
    "    objective= 'multi:softprob',  \n",
    "    num_class= 4)"
   ]
  },
  {
   "cell_type": "code",
   "execution_count": 32,
   "metadata": {},
   "outputs": [
    {
     "name": "stdout",
     "output_type": "stream",
     "text": [
      "[0]\tvalidation_0-mlogloss:1.27713\tvalidation_1-mlogloss:1.27877\n",
      "[1]\tvalidation_0-mlogloss:1.18663\tvalidation_1-mlogloss:1.18869\n",
      "[2]\tvalidation_0-mlogloss:1.10842\tvalidation_1-mlogloss:1.10991\n",
      "[3]\tvalidation_0-mlogloss:1.04114\tvalidation_1-mlogloss:1.04146\n",
      "[4]\tvalidation_0-mlogloss:0.98332\tvalidation_1-mlogloss:0.98453\n",
      "[5]\tvalidation_0-mlogloss:0.93161\tvalidation_1-mlogloss:0.93251\n",
      "[6]\tvalidation_0-mlogloss:0.88668\tvalidation_1-mlogloss:0.88866\n",
      "[7]\tvalidation_0-mlogloss:0.84621\tvalidation_1-mlogloss:0.85000\n",
      "[8]\tvalidation_0-mlogloss:0.80974\tvalidation_1-mlogloss:0.81436\n",
      "[9]\tvalidation_0-mlogloss:0.77659\tvalidation_1-mlogloss:0.78319\n",
      "[10]\tvalidation_0-mlogloss:0.74711\tvalidation_1-mlogloss:0.75441\n",
      "[11]\tvalidation_0-mlogloss:0.72001\tvalidation_1-mlogloss:0.72835\n",
      "[12]\tvalidation_0-mlogloss:0.69558\tvalidation_1-mlogloss:0.70492\n",
      "[13]\tvalidation_0-mlogloss:0.67317\tvalidation_1-mlogloss:0.68350\n",
      "[14]\tvalidation_0-mlogloss:0.65287\tvalidation_1-mlogloss:0.66466\n",
      "[15]\tvalidation_0-mlogloss:0.63267\tvalidation_1-mlogloss:0.64503\n",
      "[16]\tvalidation_0-mlogloss:0.61579\tvalidation_1-mlogloss:0.62928\n",
      "[17]\tvalidation_0-mlogloss:0.59878\tvalidation_1-mlogloss:0.61401\n",
      "[18]\tvalidation_0-mlogloss:0.58451\tvalidation_1-mlogloss:0.59982\n",
      "[19]\tvalidation_0-mlogloss:0.57023\tvalidation_1-mlogloss:0.58783\n",
      "[20]\tvalidation_0-mlogloss:0.55722\tvalidation_1-mlogloss:0.57499\n",
      "[21]\tvalidation_0-mlogloss:0.54502\tvalidation_1-mlogloss:0.56399\n"
     ]
    },
    {
     "name": "stderr",
     "output_type": "stream",
     "text": [
      "C:\\Users\\Florence\\anaconda3\\lib\\site-packages\\xgboost\\sklearn.py:1146: UserWarning: The use of label encoder in XGBClassifier is deprecated and will be removed in a future release. To remove this warning, do the following: 1) Pass option use_label_encoder=False when constructing XGBClassifier object; and 2) Encode your labels (y) as integers starting with 0, i.e. 0, 1, 2, ..., [num_class - 1].\n",
      "  warnings.warn(label_encoder_deprecation_msg, UserWarning)\n"
     ]
    },
    {
     "name": "stdout",
     "output_type": "stream",
     "text": [
      "[22]\tvalidation_0-mlogloss:0.53335\tvalidation_1-mlogloss:0.55431\n",
      "[23]\tvalidation_0-mlogloss:0.52278\tvalidation_1-mlogloss:0.54444\n",
      "[24]\tvalidation_0-mlogloss:0.51257\tvalidation_1-mlogloss:0.53480\n",
      "[25]\tvalidation_0-mlogloss:0.50254\tvalidation_1-mlogloss:0.52667\n",
      "[26]\tvalidation_0-mlogloss:0.49371\tvalidation_1-mlogloss:0.51955\n",
      "[27]\tvalidation_0-mlogloss:0.48493\tvalidation_1-mlogloss:0.51148\n",
      "[28]\tvalidation_0-mlogloss:0.47705\tvalidation_1-mlogloss:0.50586\n",
      "[29]\tvalidation_0-mlogloss:0.46976\tvalidation_1-mlogloss:0.50010\n",
      "[30]\tvalidation_0-mlogloss:0.46292\tvalidation_1-mlogloss:0.49328\n",
      "[31]\tvalidation_0-mlogloss:0.45540\tvalidation_1-mlogloss:0.48724\n",
      "[32]\tvalidation_0-mlogloss:0.44784\tvalidation_1-mlogloss:0.48074\n",
      "[33]\tvalidation_0-mlogloss:0.44088\tvalidation_1-mlogloss:0.47571\n",
      "[34]\tvalidation_0-mlogloss:0.43538\tvalidation_1-mlogloss:0.47131\n",
      "[35]\tvalidation_0-mlogloss:0.42888\tvalidation_1-mlogloss:0.46699\n",
      "[36]\tvalidation_0-mlogloss:0.42267\tvalidation_1-mlogloss:0.46095\n",
      "[37]\tvalidation_0-mlogloss:0.41676\tvalidation_1-mlogloss:0.45700\n",
      "[38]\tvalidation_0-mlogloss:0.41097\tvalidation_1-mlogloss:0.45137\n",
      "[39]\tvalidation_0-mlogloss:0.40642\tvalidation_1-mlogloss:0.44783\n",
      "[40]\tvalidation_0-mlogloss:0.40187\tvalidation_1-mlogloss:0.44266\n",
      "[41]\tvalidation_0-mlogloss:0.39681\tvalidation_1-mlogloss:0.44030\n",
      "[42]\tvalidation_0-mlogloss:0.39199\tvalidation_1-mlogloss:0.43566\n",
      "[43]\tvalidation_0-mlogloss:0.38802\tvalidation_1-mlogloss:0.43372\n",
      "[44]\tvalidation_0-mlogloss:0.38449\tvalidation_1-mlogloss:0.43179\n",
      "[45]\tvalidation_0-mlogloss:0.38014\tvalidation_1-mlogloss:0.42745\n",
      "[46]\tvalidation_0-mlogloss:0.37613\tvalidation_1-mlogloss:0.42446\n",
      "[47]\tvalidation_0-mlogloss:0.37294\tvalidation_1-mlogloss:0.42325\n",
      "[48]\tvalidation_0-mlogloss:0.36785\tvalidation_1-mlogloss:0.41881\n",
      "[49]\tvalidation_0-mlogloss:0.36522\tvalidation_1-mlogloss:0.41686\n",
      "[50]\tvalidation_0-mlogloss:0.36246\tvalidation_1-mlogloss:0.41426\n",
      "[51]\tvalidation_0-mlogloss:0.35955\tvalidation_1-mlogloss:0.41207\n",
      "[52]\tvalidation_0-mlogloss:0.35698\tvalidation_1-mlogloss:0.41064\n",
      "[53]\tvalidation_0-mlogloss:0.35392\tvalidation_1-mlogloss:0.40759\n",
      "[54]\tvalidation_0-mlogloss:0.35035\tvalidation_1-mlogloss:0.40510\n",
      "[55]\tvalidation_0-mlogloss:0.34793\tvalidation_1-mlogloss:0.40360\n",
      "[56]\tvalidation_0-mlogloss:0.34557\tvalidation_1-mlogloss:0.40127\n",
      "[57]\tvalidation_0-mlogloss:0.34323\tvalidation_1-mlogloss:0.40130\n",
      "[58]\tvalidation_0-mlogloss:0.34068\tvalidation_1-mlogloss:0.39882\n",
      "[59]\tvalidation_0-mlogloss:0.33794\tvalidation_1-mlogloss:0.39596\n",
      "[60]\tvalidation_0-mlogloss:0.33616\tvalidation_1-mlogloss:0.39482\n",
      "[61]\tvalidation_0-mlogloss:0.33291\tvalidation_1-mlogloss:0.39260\n",
      "[62]\tvalidation_0-mlogloss:0.33030\tvalidation_1-mlogloss:0.39060\n",
      "[63]\tvalidation_0-mlogloss:0.32826\tvalidation_1-mlogloss:0.39010\n",
      "[64]\tvalidation_0-mlogloss:0.32574\tvalidation_1-mlogloss:0.38866\n",
      "[65]\tvalidation_0-mlogloss:0.32308\tvalidation_1-mlogloss:0.38624\n",
      "[66]\tvalidation_0-mlogloss:0.32093\tvalidation_1-mlogloss:0.38636\n",
      "[67]\tvalidation_0-mlogloss:0.31906\tvalidation_1-mlogloss:0.38558\n",
      "[68]\tvalidation_0-mlogloss:0.31688\tvalidation_1-mlogloss:0.38254\n",
      "[69]\tvalidation_0-mlogloss:0.31447\tvalidation_1-mlogloss:0.38191\n",
      "[70]\tvalidation_0-mlogloss:0.31226\tvalidation_1-mlogloss:0.38027\n",
      "[71]\tvalidation_0-mlogloss:0.31052\tvalidation_1-mlogloss:0.38096\n",
      "[72]\tvalidation_0-mlogloss:0.30856\tvalidation_1-mlogloss:0.37963\n",
      "[73]\tvalidation_0-mlogloss:0.30694\tvalidation_1-mlogloss:0.37832\n",
      "[74]\tvalidation_0-mlogloss:0.30563\tvalidation_1-mlogloss:0.37782\n",
      "[75]\tvalidation_0-mlogloss:0.30293\tvalidation_1-mlogloss:0.37518\n",
      "[76]\tvalidation_0-mlogloss:0.30091\tvalidation_1-mlogloss:0.37480\n",
      "[77]\tvalidation_0-mlogloss:0.29847\tvalidation_1-mlogloss:0.37317\n",
      "[78]\tvalidation_0-mlogloss:0.29672\tvalidation_1-mlogloss:0.37195\n",
      "[79]\tvalidation_0-mlogloss:0.29462\tvalidation_1-mlogloss:0.37227\n",
      "[80]\tvalidation_0-mlogloss:0.29232\tvalidation_1-mlogloss:0.37003\n",
      "[81]\tvalidation_0-mlogloss:0.29097\tvalidation_1-mlogloss:0.36960\n",
      "[82]\tvalidation_0-mlogloss:0.28937\tvalidation_1-mlogloss:0.37058\n",
      "[83]\tvalidation_0-mlogloss:0.28777\tvalidation_1-mlogloss:0.36984\n",
      "[84]\tvalidation_0-mlogloss:0.28527\tvalidation_1-mlogloss:0.36785\n",
      "[85]\tvalidation_0-mlogloss:0.28404\tvalidation_1-mlogloss:0.36760\n",
      "[86]\tvalidation_0-mlogloss:0.28262\tvalidation_1-mlogloss:0.36694\n",
      "[87]\tvalidation_0-mlogloss:0.28108\tvalidation_1-mlogloss:0.36554\n",
      "[88]\tvalidation_0-mlogloss:0.27949\tvalidation_1-mlogloss:0.36579\n",
      "[89]\tvalidation_0-mlogloss:0.27753\tvalidation_1-mlogloss:0.36531\n",
      "[90]\tvalidation_0-mlogloss:0.27553\tvalidation_1-mlogloss:0.36468\n",
      "[91]\tvalidation_0-mlogloss:0.27378\tvalidation_1-mlogloss:0.36469\n",
      "[92]\tvalidation_0-mlogloss:0.27243\tvalidation_1-mlogloss:0.36485\n",
      "[93]\tvalidation_0-mlogloss:0.27032\tvalidation_1-mlogloss:0.36340\n",
      "[94]\tvalidation_0-mlogloss:0.26906\tvalidation_1-mlogloss:0.36223\n",
      "[95]\tvalidation_0-mlogloss:0.26761\tvalidation_1-mlogloss:0.36087\n",
      "[96]\tvalidation_0-mlogloss:0.26644\tvalidation_1-mlogloss:0.36141\n",
      "[97]\tvalidation_0-mlogloss:0.26493\tvalidation_1-mlogloss:0.36136\n",
      "[98]\tvalidation_0-mlogloss:0.26300\tvalidation_1-mlogloss:0.36025\n",
      "[99]\tvalidation_0-mlogloss:0.26154\tvalidation_1-mlogloss:0.35937\n"
     ]
    },
    {
     "data": {
      "text/plain": [
       "XGBClassifier(base_score=0.5, booster='gbtree', colsample_bylevel=1,\n",
       "              colsample_bynode=1, colsample_bytree=1, eta=0.1, gamma=0,\n",
       "              gpu_id=-1, importance_type='gain', interaction_constraints='',\n",
       "              learning_rate=0.100000001, max_delta_step=0, max_depth=2,\n",
       "              min_child_weight=1, missing=nan, monotone_constraints='()',\n",
       "              n_estimators=100, n_jobs=4, num_class=4, num_parallel_tree=1,\n",
       "              objective='multi:softprob', random_state=0, reg_alpha=0,\n",
       "              reg_lambda=1, scale_pos_weight=None, subsample=1,\n",
       "              tree_method='exact', validate_parameters=1, verbosity=None)"
      ]
     },
     "execution_count": 32,
     "metadata": {},
     "output_type": "execute_result"
    }
   ],
   "source": [
    "# define the datasets to evaluate each iteration\n",
    "evalset = [(X_train, y_train), (X_test,y_test)]\n",
    "model.fit(X_train, y_train, eval_metric='mlogloss', eval_set=evalset)"
   ]
  },
  {
   "cell_type": "code",
   "execution_count": 33,
   "metadata": {},
   "outputs": [],
   "source": [
    "from sklearn.metrics import classification_report, confusion_matrix, accuracy_score, precision_score, recall_score\n",
    "yhat = model.predict(X_test)\n",
    "score = accuracy_score(y_test, yhat)"
   ]
  },
  {
   "cell_type": "code",
   "execution_count": 34,
   "metadata": {},
   "outputs": [
    {
     "name": "stdout",
     "output_type": "stream",
     "text": [
      "Accuracy: 0.833\n"
     ]
    }
   ],
   "source": [
    "print('Accuracy: %.3f' % score)"
   ]
  },
  {
   "cell_type": "code",
   "execution_count": 35,
   "metadata": {},
   "outputs": [],
   "source": [
    "results = model.evals_result()"
   ]
  },
  {
   "cell_type": "code",
   "execution_count": 36,
   "metadata": {},
   "outputs": [
    {
     "data": {
      "image/png": "[encoded data removed]",
      "text/plain": [
       "<Figure size 432x288 with 1 Axes>"
      ]
     },
     "metadata": {
      "needs_background": "light"
     },
     "output_type": "display_data"
    }
   ],
   "source": [
    "plt.plot(results['validation_0']['mlogloss'], label='train')\n",
    "plt.plot(results['validation_1']['mlogloss'], label='test')\n",
    "plt.xlabel('number of iterations ')\n",
    "plt.ylabel('logloss')\n",
    "# show the legend\n",
    "plt.legend()\n",
    "# show the plot\n",
    "plt.show()"
   ]
  },
  {
   "cell_type": "code",
   "execution_count": null,
   "metadata": {},
   "outputs": [],
   "source": []
  },
  {
   "cell_type": "code",
   "execution_count": null,
   "metadata": {},
   "outputs": [],
   "source": []
  }
 ],
 "metadata": {
  "kernelspec": {
   "display_name": "Python 3",
   "language": "python",
   "name": "python3"
  },
  "language_info": {
   "codemirror_mode": {
    "name": "ipython",
    "version": 3
   },
   "file_extension": ".py",
   "mimetype": "text/x-python",
   "name": "python",
   "nbconvert_exporter": "python",
   "pygments_lexer": "ipython3",
   "version": "3.8.5"
  }
 },
 "nbformat": 4,
 "nbformat_minor": 4
}
