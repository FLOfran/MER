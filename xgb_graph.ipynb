{
 "cells": [
  {
   "cell_type": "code",
   "execution_count": 12,
   "metadata": {},
   "outputs": [
    {
     "data": {
      "text/html": [
       "<div>\n",
       "<style scoped>\n",
       "    .dataframe tbody tr th:only-of-type {\n",
       "        vertical-align: middle;\n",
       "    }\n",
       "\n",
       "    .dataframe tbody tr th {\n",
       "        vertical-align: top;\n",
       "    }\n",
       "\n",
       "    .dataframe thead th {\n",
       "        text-align: right;\n",
       "    }\n",
       "</style>\n",
       "<table border=\"1\" class=\"dataframe\">\n",
       "  <thead>\n",
       "    <tr style=\"text-align: right;\">\n",
       "      <th></th>\n",
       "      <th>Unnamed: 0</th>\n",
       "      <th>tempo</th>\n",
       "      <th>instrumentalness</th>\n",
       "      <th>acousticness</th>\n",
       "      <th>energy</th>\n",
       "      <th>valence</th>\n",
       "      <th>loudness</th>\n",
       "      <th>mood</th>\n",
       "    </tr>\n",
       "  </thead>\n",
       "  <tbody>\n",
       "    <tr>\n",
       "      <th>0</th>\n",
       "      <td>0</td>\n",
       "      <td>118.523</td>\n",
       "      <td>0.000000</td>\n",
       "      <td>0.13700</td>\n",
       "      <td>0.730</td>\n",
       "      <td>0.625</td>\n",
       "      <td>0.779912</td>\n",
       "      <td>Happy</td>\n",
       "    </tr>\n",
       "    <tr>\n",
       "      <th>1</th>\n",
       "      <td>1</td>\n",
       "      <td>120.255</td>\n",
       "      <td>0.196000</td>\n",
       "      <td>0.01890</td>\n",
       "      <td>0.832</td>\n",
       "      <td>0.166</td>\n",
       "      <td>0.852145</td>\n",
       "      <td>Sad</td>\n",
       "    </tr>\n",
       "    <tr>\n",
       "      <th>2</th>\n",
       "      <td>2</td>\n",
       "      <td>136.168</td>\n",
       "      <td>0.000077</td>\n",
       "      <td>0.91300</td>\n",
       "      <td>0.139</td>\n",
       "      <td>0.116</td>\n",
       "      <td>0.615590</td>\n",
       "      <td>Sad</td>\n",
       "    </tr>\n",
       "    <tr>\n",
       "      <th>3</th>\n",
       "      <td>3</td>\n",
       "      <td>193.100</td>\n",
       "      <td>0.000006</td>\n",
       "      <td>0.08900</td>\n",
       "      <td>0.438</td>\n",
       "      <td>0.587</td>\n",
       "      <td>0.672509</td>\n",
       "      <td>Happy</td>\n",
       "    </tr>\n",
       "    <tr>\n",
       "      <th>4</th>\n",
       "      <td>4</td>\n",
       "      <td>169.881</td>\n",
       "      <td>0.000000</td>\n",
       "      <td>0.00171</td>\n",
       "      <td>0.932</td>\n",
       "      <td>0.445</td>\n",
       "      <td>0.885932</td>\n",
       "      <td>Energetic</td>\n",
       "    </tr>\n",
       "  </tbody>\n",
       "</table>\n",
       "</div>"
      ],
      "text/plain": [
       "   Unnamed: 0    tempo  instrumentalness  acousticness  energy  valence  \\\n",
       "0           0  118.523          0.000000       0.13700   0.730    0.625   \n",
       "1           1  120.255          0.196000       0.01890   0.832    0.166   \n",
       "2           2  136.168          0.000077       0.91300   0.139    0.116   \n",
       "3           3  193.100          0.000006       0.08900   0.438    0.587   \n",
       "4           4  169.881          0.000000       0.00171   0.932    0.445   \n",
       "\n",
       "   loudness       mood  \n",
       "0  0.779912      Happy  \n",
       "1  0.852145        Sad  \n",
       "2  0.615590        Sad  \n",
       "3  0.672509      Happy  \n",
       "4  0.885932  Energetic  "
      ]
     },
     "execution_count": 12,
     "metadata": {},
     "output_type": "execute_result"
    }
   ],
   "source": [
    "\n",
    "import matplotlib.pyplot as plt\n",
    "import pandas as pd\n",
    "import xgboost as xgb\n",
    "from sklearn import preprocessing\n",
    "from sklearn.model_selection import train_test_split\n",
    "import seaborn as sns\n",
    "\n",
    "dataset = pd.read_csv(r'moods_preprocessed.csv')\n",
    "\n",
    "dataset.head()\n"
   ]
  },
  {
   "cell_type": "code",
   "execution_count": 13,
   "metadata": {},
   "outputs": [
    {
     "data": {
      "text/html": [
       "<div>\n",
       "<style scoped>\n",
       "    .dataframe tbody tr th:only-of-type {\n",
       "        vertical-align: middle;\n",
       "    }\n",
       "\n",
       "    .dataframe tbody tr th {\n",
       "        vertical-align: top;\n",
       "    }\n",
       "\n",
       "    .dataframe thead th {\n",
       "        text-align: right;\n",
       "    }\n",
       "</style>\n",
       "<table border=\"1\" class=\"dataframe\">\n",
       "  <thead>\n",
       "    <tr style=\"text-align: right;\">\n",
       "      <th></th>\n",
       "      <th>Unnamed: 0</th>\n",
       "      <th>tempo</th>\n",
       "      <th>instrumentalness</th>\n",
       "      <th>acousticness</th>\n",
       "      <th>energy</th>\n",
       "      <th>valence</th>\n",
       "      <th>loudness</th>\n",
       "      <th>mood</th>\n",
       "    </tr>\n",
       "  </thead>\n",
       "  <tbody>\n",
       "    <tr>\n",
       "      <th>0</th>\n",
       "      <td>0</td>\n",
       "      <td>118.523</td>\n",
       "      <td>0.000000</td>\n",
       "      <td>0.13700</td>\n",
       "      <td>0.730</td>\n",
       "      <td>0.625</td>\n",
       "      <td>0.779912</td>\n",
       "      <td>0</td>\n",
       "    </tr>\n",
       "    <tr>\n",
       "      <th>1</th>\n",
       "      <td>1</td>\n",
       "      <td>120.255</td>\n",
       "      <td>0.196000</td>\n",
       "      <td>0.01890</td>\n",
       "      <td>0.832</td>\n",
       "      <td>0.166</td>\n",
       "      <td>0.852145</td>\n",
       "      <td>1</td>\n",
       "    </tr>\n",
       "    <tr>\n",
       "      <th>2</th>\n",
       "      <td>2</td>\n",
       "      <td>136.168</td>\n",
       "      <td>0.000077</td>\n",
       "      <td>0.91300</td>\n",
       "      <td>0.139</td>\n",
       "      <td>0.116</td>\n",
       "      <td>0.615590</td>\n",
       "      <td>1</td>\n",
       "    </tr>\n",
       "    <tr>\n",
       "      <th>3</th>\n",
       "      <td>3</td>\n",
       "      <td>193.100</td>\n",
       "      <td>0.000006</td>\n",
       "      <td>0.08900</td>\n",
       "      <td>0.438</td>\n",
       "      <td>0.587</td>\n",
       "      <td>0.672509</td>\n",
       "      <td>0</td>\n",
       "    </tr>\n",
       "    <tr>\n",
       "      <th>4</th>\n",
       "      <td>4</td>\n",
       "      <td>169.881</td>\n",
       "      <td>0.000000</td>\n",
       "      <td>0.00171</td>\n",
       "      <td>0.932</td>\n",
       "      <td>0.445</td>\n",
       "      <td>0.885932</td>\n",
       "      <td>2</td>\n",
       "    </tr>\n",
       "  </tbody>\n",
       "</table>\n",
       "</div>"
      ],
      "text/plain": [
       "   Unnamed: 0    tempo  instrumentalness  acousticness  energy  valence  \\\n",
       "0           0  118.523          0.000000       0.13700   0.730    0.625   \n",
       "1           1  120.255          0.196000       0.01890   0.832    0.166   \n",
       "2           2  136.168          0.000077       0.91300   0.139    0.116   \n",
       "3           3  193.100          0.000006       0.08900   0.438    0.587   \n",
       "4           4  169.881          0.000000       0.00171   0.932    0.445   \n",
       "\n",
       "   loudness  mood  \n",
       "0  0.779912     0  \n",
       "1  0.852145     1  \n",
       "2  0.615590     1  \n",
       "3  0.672509     0  \n",
       "4  0.885932     2  "
      ]
     },
     "execution_count": 13,
     "metadata": {},
     "output_type": "execute_result"
    }
   ],
   "source": [
    "dataset['mood']=dataset['mood'].map({'Happy':0, 'Sad':1, 'Energetic': 2, 'Calm':3 }).astype(int)\n",
    "dataset.head()\n"
   ]
  },
  {
   "cell_type": "code",
   "execution_count": 14,
   "metadata": {},
   "outputs": [],
   "source": [
    "data= pd.DataFrame(dataset, columns=['tempo', 'acousticness', 'instrumentalness', 'valence', 'energy', 'loudness', 'mood'])\n",
    "data.head()\n",
    "x_data=data.drop(['mood'], axis=1)\n",
    "y_data=data['mood']\n",
    "\n",
    "X_train, X_test, y_train, y_test = train_test_split(x_data, y_data, test_size=0.2, random_state=1)\n"
   ]
  },
  {
   "cell_type": "code",
   "execution_count": 21,
   "metadata": {},
   "outputs": [],
   "source": [
    "from xgboost import XGBClassifier\n",
    "model = XGBClassifier()"
   ]
  },
  {
   "cell_type": "code",
   "execution_count": 16,
   "metadata": {},
   "outputs": [
    {
     "name": "stdout",
     "output_type": "stream",
     "text": [
      "[0]\tvalidation_0-mlogloss:0.98745\tvalidation_1-mlogloss:1.02951\n",
      "[1]\tvalidation_0-mlogloss:0.75919\tvalidation_1-mlogloss:0.83525\n",
      "[2]\tvalidation_0-mlogloss:0.59980\tvalidation_1-mlogloss:0.70685\n",
      "[3]\tvalidation_0-mlogloss:0.49028\tvalidation_1-mlogloss:0.61027\n",
      "[4]\tvalidation_0-mlogloss:0.41059\tvalidation_1-mlogloss:0.54909\n",
      "[5]\tvalidation_0-mlogloss:0.34883\tvalidation_1-mlogloss:0.50004\n",
      "[6]\tvalidation_0-mlogloss:0.29774\tvalidation_1-mlogloss:0.46491\n",
      "[7]\tvalidation_0-mlogloss:0.25793\tvalidation_1-mlogloss:0.43867\n",
      "[8]\tvalidation_0-mlogloss:0.22366\tvalidation_1-mlogloss:0.41691\n",
      "[9]\tvalidation_0-mlogloss:0.19617\tvalidation_1-mlogloss:0.40034\n",
      "[10]\tvalidation_0-mlogloss:0.17101\tvalidation_1-mlogloss:0.38514\n",
      "[11]\tvalidation_0-mlogloss:0.15163\tvalidation_1-mlogloss:0.37343\n",
      "[12]\tvalidation_0-mlogloss:0.13433\tvalidation_1-mlogloss:0.36739\n",
      "[13]\tvalidation_0-mlogloss:0.12091\tvalidation_1-mlogloss:0.35995\n",
      "[14]\tvalidation_0-mlogloss:0.11021\tvalidation_1-mlogloss:0.35773\n",
      "[15]\tvalidation_0-mlogloss:0.10204\tvalidation_1-mlogloss:0.35599\n"
     ]
    },
    {
     "name": "stderr",
     "output_type": "stream",
     "text": [
      "C:\\Users\\Florence\\anaconda3\\lib\\site-packages\\xgboost\\sklearn.py:1146: UserWarning: The use of label encoder in XGBClassifier is deprecated and will be removed in a future release. To remove this warning, do the following: 1) Pass option use_label_encoder=False when constructing XGBClassifier object; and 2) Encode your labels (y) as integers starting with 0, i.e. 0, 1, 2, ..., [num_class - 1].\n",
      "  warnings.warn(label_encoder_deprecation_msg, UserWarning)\n"
     ]
    },
    {
     "name": "stdout",
     "output_type": "stream",
     "text": [
      "[16]\tvalidation_0-mlogloss:0.09230\tvalidation_1-mlogloss:0.35280\n",
      "[17]\tvalidation_0-mlogloss:0.08502\tvalidation_1-mlogloss:0.34749\n",
      "[18]\tvalidation_0-mlogloss:0.07966\tvalidation_1-mlogloss:0.34464\n",
      "[19]\tvalidation_0-mlogloss:0.07352\tvalidation_1-mlogloss:0.34474\n",
      "[20]\tvalidation_0-mlogloss:0.06888\tvalidation_1-mlogloss:0.34472\n",
      "[21]\tvalidation_0-mlogloss:0.06499\tvalidation_1-mlogloss:0.34669\n",
      "[22]\tvalidation_0-mlogloss:0.06001\tvalidation_1-mlogloss:0.34561\n",
      "[23]\tvalidation_0-mlogloss:0.05635\tvalidation_1-mlogloss:0.34427\n",
      "[24]\tvalidation_0-mlogloss:0.05281\tvalidation_1-mlogloss:0.34393\n",
      "[25]\tvalidation_0-mlogloss:0.05003\tvalidation_1-mlogloss:0.34324\n",
      "[26]\tvalidation_0-mlogloss:0.04741\tvalidation_1-mlogloss:0.34446\n",
      "[27]\tvalidation_0-mlogloss:0.04464\tvalidation_1-mlogloss:0.34664\n",
      "[28]\tvalidation_0-mlogloss:0.04239\tvalidation_1-mlogloss:0.34459\n",
      "[29]\tvalidation_0-mlogloss:0.04010\tvalidation_1-mlogloss:0.34417\n",
      "[30]\tvalidation_0-mlogloss:0.03815\tvalidation_1-mlogloss:0.34288\n",
      "[31]\tvalidation_0-mlogloss:0.03683\tvalidation_1-mlogloss:0.34630\n",
      "[32]\tvalidation_0-mlogloss:0.03513\tvalidation_1-mlogloss:0.34553\n",
      "[33]\tvalidation_0-mlogloss:0.03395\tvalidation_1-mlogloss:0.34688\n",
      "[34]\tvalidation_0-mlogloss:0.03264\tvalidation_1-mlogloss:0.34760\n",
      "[35]\tvalidation_0-mlogloss:0.03156\tvalidation_1-mlogloss:0.35017\n",
      "[36]\tvalidation_0-mlogloss:0.03062\tvalidation_1-mlogloss:0.35013\n",
      "[37]\tvalidation_0-mlogloss:0.02959\tvalidation_1-mlogloss:0.35102\n",
      "[38]\tvalidation_0-mlogloss:0.02874\tvalidation_1-mlogloss:0.35242\n",
      "[39]\tvalidation_0-mlogloss:0.02772\tvalidation_1-mlogloss:0.35360\n",
      "[40]\tvalidation_0-mlogloss:0.02699\tvalidation_1-mlogloss:0.35421\n",
      "[41]\tvalidation_0-mlogloss:0.02627\tvalidation_1-mlogloss:0.35427\n",
      "[42]\tvalidation_0-mlogloss:0.02548\tvalidation_1-mlogloss:0.35724\n",
      "[43]\tvalidation_0-mlogloss:0.02476\tvalidation_1-mlogloss:0.35951\n",
      "[44]\tvalidation_0-mlogloss:0.02410\tvalidation_1-mlogloss:0.36242\n",
      "[45]\tvalidation_0-mlogloss:0.02357\tvalidation_1-mlogloss:0.36482\n",
      "[46]\tvalidation_0-mlogloss:0.02295\tvalidation_1-mlogloss:0.36605\n",
      "[47]\tvalidation_0-mlogloss:0.02257\tvalidation_1-mlogloss:0.36649\n",
      "[48]\tvalidation_0-mlogloss:0.02205\tvalidation_1-mlogloss:0.36786\n",
      "[49]\tvalidation_0-mlogloss:0.02160\tvalidation_1-mlogloss:0.36670\n",
      "[50]\tvalidation_0-mlogloss:0.02106\tvalidation_1-mlogloss:0.36691\n",
      "[51]\tvalidation_0-mlogloss:0.02065\tvalidation_1-mlogloss:0.36697\n",
      "[52]\tvalidation_0-mlogloss:0.02019\tvalidation_1-mlogloss:0.36856\n",
      "[53]\tvalidation_0-mlogloss:0.01980\tvalidation_1-mlogloss:0.36791\n",
      "[54]\tvalidation_0-mlogloss:0.01946\tvalidation_1-mlogloss:0.36908\n",
      "[55]\tvalidation_0-mlogloss:0.01904\tvalidation_1-mlogloss:0.37047\n",
      "[56]\tvalidation_0-mlogloss:0.01872\tvalidation_1-mlogloss:0.37215\n",
      "[57]\tvalidation_0-mlogloss:0.01840\tvalidation_1-mlogloss:0.37294\n",
      "[58]\tvalidation_0-mlogloss:0.01815\tvalidation_1-mlogloss:0.37222\n",
      "[59]\tvalidation_0-mlogloss:0.01779\tvalidation_1-mlogloss:0.37500\n",
      "[60]\tvalidation_0-mlogloss:0.01753\tvalidation_1-mlogloss:0.37540\n",
      "[61]\tvalidation_0-mlogloss:0.01725\tvalidation_1-mlogloss:0.37473\n",
      "[62]\tvalidation_0-mlogloss:0.01703\tvalidation_1-mlogloss:0.37597\n",
      "[63]\tvalidation_0-mlogloss:0.01678\tvalidation_1-mlogloss:0.37679\n",
      "[64]\tvalidation_0-mlogloss:0.01658\tvalidation_1-mlogloss:0.37704\n",
      "[65]\tvalidation_0-mlogloss:0.01635\tvalidation_1-mlogloss:0.37882\n",
      "[66]\tvalidation_0-mlogloss:0.01615\tvalidation_1-mlogloss:0.37962\n",
      "[67]\tvalidation_0-mlogloss:0.01591\tvalidation_1-mlogloss:0.37855\n",
      "[68]\tvalidation_0-mlogloss:0.01571\tvalidation_1-mlogloss:0.37818\n",
      "[69]\tvalidation_0-mlogloss:0.01554\tvalidation_1-mlogloss:0.37830\n",
      "[70]\tvalidation_0-mlogloss:0.01536\tvalidation_1-mlogloss:0.37911\n",
      "[71]\tvalidation_0-mlogloss:0.01517\tvalidation_1-mlogloss:0.37934\n",
      "[72]\tvalidation_0-mlogloss:0.01500\tvalidation_1-mlogloss:0.37943\n",
      "[73]\tvalidation_0-mlogloss:0.01484\tvalidation_1-mlogloss:0.38068\n",
      "[74]\tvalidation_0-mlogloss:0.01467\tvalidation_1-mlogloss:0.38171\n",
      "[75]\tvalidation_0-mlogloss:0.01451\tvalidation_1-mlogloss:0.38206\n",
      "[76]\tvalidation_0-mlogloss:0.01434\tvalidation_1-mlogloss:0.38144\n",
      "[77]\tvalidation_0-mlogloss:0.01418\tvalidation_1-mlogloss:0.38234\n",
      "[78]\tvalidation_0-mlogloss:0.01405\tvalidation_1-mlogloss:0.38246\n",
      "[79]\tvalidation_0-mlogloss:0.01391\tvalidation_1-mlogloss:0.38332\n",
      "[80]\tvalidation_0-mlogloss:0.01378\tvalidation_1-mlogloss:0.38278\n",
      "[81]\tvalidation_0-mlogloss:0.01364\tvalidation_1-mlogloss:0.38260\n",
      "[82]\tvalidation_0-mlogloss:0.01351\tvalidation_1-mlogloss:0.38420\n",
      "[83]\tvalidation_0-mlogloss:0.01338\tvalidation_1-mlogloss:0.38532\n",
      "[84]\tvalidation_0-mlogloss:0.01326\tvalidation_1-mlogloss:0.38698\n",
      "[85]\tvalidation_0-mlogloss:0.01313\tvalidation_1-mlogloss:0.38597\n",
      "[86]\tvalidation_0-mlogloss:0.01302\tvalidation_1-mlogloss:0.38626\n",
      "[87]\tvalidation_0-mlogloss:0.01291\tvalidation_1-mlogloss:0.38600\n",
      "[88]\tvalidation_0-mlogloss:0.01278\tvalidation_1-mlogloss:0.38635\n",
      "[89]\tvalidation_0-mlogloss:0.01269\tvalidation_1-mlogloss:0.38660\n",
      "[90]\tvalidation_0-mlogloss:0.01257\tvalidation_1-mlogloss:0.38727\n",
      "[91]\tvalidation_0-mlogloss:0.01248\tvalidation_1-mlogloss:0.38828\n",
      "[92]\tvalidation_0-mlogloss:0.01240\tvalidation_1-mlogloss:0.38791\n",
      "[93]\tvalidation_0-mlogloss:0.01230\tvalidation_1-mlogloss:0.38864\n",
      "[94]\tvalidation_0-mlogloss:0.01220\tvalidation_1-mlogloss:0.38842\n",
      "[95]\tvalidation_0-mlogloss:0.01211\tvalidation_1-mlogloss:0.38814\n",
      "[96]\tvalidation_0-mlogloss:0.01202\tvalidation_1-mlogloss:0.38860\n",
      "[97]\tvalidation_0-mlogloss:0.01193\tvalidation_1-mlogloss:0.38965\n",
      "[98]\tvalidation_0-mlogloss:0.01187\tvalidation_1-mlogloss:0.39106\n",
      "[99]\tvalidation_0-mlogloss:0.01180\tvalidation_1-mlogloss:0.39127\n"
     ]
    },
    {
     "data": {
      "text/plain": [
       "XGBClassifier(base_score=0.5, booster='gbtree', colsample_bylevel=1,\n",
       "              colsample_bynode=1, colsample_bytree=1, gamma=0, gpu_id=-1,\n",
       "              importance_type='gain', interaction_constraints='',\n",
       "              learning_rate=0.300000012, max_delta_step=0, max_depth=6,\n",
       "              min_child_weight=1, missing=nan, monotone_constraints='()',\n",
       "              n_estimators=100, n_jobs=4, num_parallel_tree=1,\n",
       "              objective='multi:softprob', random_state=0, reg_alpha=0,\n",
       "              reg_lambda=1, scale_pos_weight=None, subsample=1,\n",
       "              tree_method='exact', validate_parameters=1, verbosity=None)"
      ]
     },
     "execution_count": 16,
     "metadata": {},
     "output_type": "execute_result"
    }
   ],
   "source": [
    "# define the datasets to evaluate each iteration\n",
    "evalset = [(X_train, y_train), (X_test,y_test)]\n",
    "model.fit(X_train, y_train, eval_metric='mlogloss', eval_set=evalset)"
   ]
  },
  {
   "cell_type": "code",
   "execution_count": 17,
   "metadata": {},
   "outputs": [],
   "source": [
    "from sklearn.metrics import classification_report, confusion_matrix, accuracy_score\n",
    "yhat = model.predict(X_test)\n",
    "score = accuracy_score(y_test, yhat)"
   ]
  },
  {
   "cell_type": "code",
   "execution_count": 18,
   "metadata": {},
   "outputs": [
    {
     "name": "stdout",
     "output_type": "stream",
     "text": [
      "Accuracy:  0.855072463768116\n"
     ]
    }
   ],
   "source": [
    "print('Accuracy: ',score)"
   ]
  },
  {
   "cell_type": "code",
   "execution_count": 19,
   "metadata": {},
   "outputs": [],
   "source": [
    "results = model.evals_result()"
   ]
  },
  {
   "cell_type": "code",
   "execution_count": 20,
   "metadata": {},
   "outputs": [
    {
     "data": {
      "image/png": "[encoded data removed]",
      "text/plain": [
       "<Figure size 432x288 with 1 Axes>"
      ]
     },
     "metadata": {
      "needs_background": "light"
     },
     "output_type": "display_data"
    }
   ],
   "source": [
    "plt.plot(results['validation_0']['mlogloss'], label='train')\n",
    "plt.plot(results['validation_1']['mlogloss'], label='test')\n",
    "plt.xlabel('number of iterations ')\n",
    "plt.ylabel('logloss')\n",
    "# show the legend\n",
    "plt.legend()\n",
    "# show the plot\n",
    "plt.show()"
   ]
  },
  {
   "cell_type": "code",
   "execution_count": null,
   "metadata": {},
   "outputs": [],
   "source": []
  },
  {
   "cell_type": "code",
   "execution_count": null,
   "metadata": {},
   "outputs": [],
   "source": []
  }
 ],
 "metadata": {
  "kernelspec": {
   "display_name": "Python 3",
   "language": "python",
   "name": "python3"
  },
  "language_info": {
   "codemirror_mode": {
    "name": "ipython",
    "version": 3
   },
   "file_extension": ".py",
   "mimetype": "text/x-python",
   "name": "python",
   "nbconvert_exporter": "python",
   "pygments_lexer": "ipython3",
   "version": "3.8.5"
  }
 },
 "nbformat": 4,
 "nbformat_minor": 4
}
